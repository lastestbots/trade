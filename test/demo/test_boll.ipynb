{
 "cells": [
  {
   "cell_type": "code",
   "execution_count": 2,
   "outputs": [],
   "source": [
    "import backtrader as bt\n",
    "\n",
    "from core.backtrade.strategy.template import TemplateStrategy\n",
    "\n",
    "\n",
    "class BollStrategy(TemplateStrategy):\n",
    "    #自定义参数，每次买入1800手\n",
    "    params = (('size', 100),)\n",
    "\n",
    "    def __init__(self):\n",
    "        super().__init__()\n",
    "        self.dataclose = self.datas[0].close\n",
    "        self.order = None\n",
    "        self.buyprice = None\n",
    "        self.buycomm = None\n",
    "        ##使用自带的indicators中自带的函数计算出支撑线和压力线，period设置周期，默认是20\n",
    "        self.lines.top = bt.indicators.BollingerBands(self.datas[0], period=20).top\n",
    "        self.lines.bot = bt.indicators.BollingerBands(self.datas[0], period=20).bot\n",
    "\n",
    "    def get_buy_size(self):\n",
    "\n",
    "        pass\n",
    "\n",
    "    def next(self):\n",
    "        if not self.position:\n",
    "            if self.dataclose <= self.lines.bot[0]:\n",
    "                #执行买入\n",
    "                self.order = self.buy(size=self.params.size)\n",
    "            else:\n",
    "                if self.dataclose >= self.lines.top[0]:\n",
    "                    #执行卖出\n",
    "                    self.order = self.close(size=self.params.size)"
   ],
   "metadata": {
    "collapsed": false,
    "pycharm": {
     "name": "#%%\n"
    }
   }
  },
  {
   "cell_type": "code",
   "execution_count": null,
   "outputs": [],
   "source": [],
   "metadata": {
    "collapsed": false,
    "pycharm": {
     "name": "#%%\n"
    }
   }
  }
 ],
 "metadata": {
  "kernelspec": {
   "display_name": "Python 3",
   "language": "python",
   "name": "python3"
  },
  "language_info": {
   "codemirror_mode": {
    "name": "ipython",
    "version": 2
   },
   "file_extension": ".py",
   "mimetype": "text/x-python",
   "name": "python",
   "nbconvert_exporter": "python",
   "pygments_lexer": "ipython2",
   "version": "2.7.6"
  }
 },
 "nbformat": 4,
 "nbformat_minor": 0
}