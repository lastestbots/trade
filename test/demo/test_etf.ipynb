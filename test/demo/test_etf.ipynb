{
 "cells": [
  {
   "cell_type": "code",
   "execution_count": 2,
   "metadata": {
    "collapsed": true,
    "pycharm": {
     "name": "#%%\n"
    }
   },
   "outputs": [],
   "source": [
    "import akshare as ak\n",
    "import numpy as np"
   ]
  },
  {
   "cell_type": "code",
   "execution_count": 3,
   "outputs": [],
   "source": [
    "#日线换为周线数据\n",
    "def transferToWeekLine(df, period='W'):\n",
    "    data1 = df\n",
    "    stock_data = pd.DataFrame(data1)\n",
    "\n",
    "    #设定转换周期period_type  转换为周是'W',月'M',季度线'Q',五分钟'5min',12天'12D'\n",
    "    stock_data[\"date\"] = pd.to_datetime(stock_data[\"date\"])\n",
    "    period_type = period\n",
    "\n",
    "    stock_data.set_index('date', inplace=True)\n",
    "\n",
    "    #进行转换，周线的每个变量都等于那一周中最后一个交易日的变量值\n",
    "\n",
    "    period_stock_data = stock_data.resample(period_type).last()\n",
    "\n",
    "    #周线的volume和money等于那一周中volume和money各自的和\n",
    "\n",
    "    period_stock_data['chg_pct'] = stock_data['chg_pct'].resample(period_type).last()\n",
    "\n",
    "    #股票在有些周一天都没有交易，将这些周去除\n",
    "\n",
    "    period_stock_data = period_stock_data[period_stock_data['chg_pct'].notnull()]\n",
    "\n",
    "    period_stock_data.reset_index(inplace=True)\n",
    "\n",
    "    data = np.array(period_stock_data)  #先将数据框转换为数组\n",
    "    data_list = data.tolist()  #其次转换为列表\n",
    "    for i in data_list:\n",
    "        i[0] = str(i[0]).split(\" \")[0]\n",
    "    return data_list"
   ],
   "metadata": {
    "collapsed": false,
    "pycharm": {
     "name": "#%%\n"
    }
   }
  },
  {
   "cell_type": "code",
   "execution_count": 4,
   "outputs": [
    {
     "name": "stdout",
     "output_type": "stream",
     "text": [
      "       基金代码                  基金简称      类型 2023-06-12-单位净值 2023-06-12-累计净值   \n",
      "0    511010        国泰上证5年期国债ETF行情  债券型-长债        131.5510          1.3280  \\\n",
      "1    511260       国泰上证10年期国债ETF行情  债券型-长债        122.1140          1.2210   \n",
      "2    159972         鹏华中证5年地债ETF行情  债券型-长债        114.9039          1.1512   \n",
      "3    511270        海富通上证10年期ETF行情  债券型-长债        110.0481          1.2387   \n",
      "4    511020   平安中证5-10年国债活跃券ETF行情  债券型-长债        109.2914          1.1459   \n",
      "..      ...                   ...     ...             ...             ...   \n",
      "766  513390  博时纳斯达克100ETF(QDII)行情    QDII             ---             ---   \n",
      "767  159659  招商纳斯达克100ETF(QDII)行情    QDII             ---             ---   \n",
      "768  159660       汇添富纳斯达克100ETF行情    QDII             ---             ---   \n",
      "769  159507           广发国证通信ETF行情  指数型-股票             ---             ---   \n",
      "770  159501  嘉实纳斯达克100ETF(QDII)行情    QDII             ---             ---   \n",
      "\n",
      "    2023-06-09-单位净值 2023-06-09-累计净值     增长值    增长率        市价    折价率  \n",
      "0          131.5510          1.3280  0.0000  0.00%  131.5440  0.01%  \n",
      "1          122.0660          1.2210  0.0480  0.04%  122.0580  0.05%  \n",
      "2          114.8447          1.1506  0.0592  0.05%  114.3980  0.44%  \n",
      "3          110.0085          1.2383  0.0396  0.04%  109.6620  0.35%  \n",
      "4          109.2637          1.1456  0.0277  0.03%  109.2900  0.00%  \n",
      "..              ...             ...     ...    ...       ...    ...  \n",
      "766          1.1578          1.1578     ---    ---    1.1650    ---  \n",
      "767          1.1466          1.1466     ---    ---    1.1550    ---  \n",
      "768          1.1467          1.1467     ---    ---    1.1550    ---  \n",
      "769          1.0031          1.0031     ---    ---       ---    ---  \n",
      "770          1.0003          1.0003     ---    ---       ---    ---  \n",
      "\n",
      "[771 rows x 11 columns]\n"
     ]
    }
   ],
   "source": [
    "#etf基本数据\n",
    "fund_etf_fund_daily_em_df = ak.fund_etf_fund_daily_em()\n",
    "print(fund_etf_fund_daily_em_df)"
   ],
   "metadata": {
    "collapsed": false,
    "pycharm": {
     "name": "#%%\n"
    }
   }
  },
  {
   "cell_type": "code",
   "execution_count": 10,
   "outputs": [
    {
     "name": "stdout",
     "output_type": "stream",
     "text": [
      "无交易记录\n",
      "\u001B[1;31m分析报告\u001B[0m\n",
      "\u001B[1;33m股票\u001B[0m： ['']\n",
      "\u001B[1;33m初始资金\u001B[0m： 1000000\n",
      "\u001B[1;33m结束资产\u001B[0m： 5519760.22\n",
      "\u001B[1;33m累计收益\u001B[0m： 4.519760219999996\n",
      "\u001B[1;33m年化收益\u001B[0m： 0.08987785307643303\n",
      "\u001B[1;33m最大回撤\u001B[0m： -0.4684236300423941\n",
      "\u001B[1;33m夏普比\u001B[0m： 0.5524816331193187\n",
      "\u001B[1;33m卡玛比\u001B[0m： 0.1918730126153088\n",
      "\u001B[1;33momega\u001B[0m： 1.112758738946507\n",
      "\u001B[1;33m交易次数\u001B[0m： 0\n",
      "\u001B[1;33m交易胜率\u001B[0m： 0\n",
      "\u001B[1;33m最大连赢次数\u001B[0m： 0\n",
      "\u001B[1;33m最大连输次数\u001B[0m： 0\n"
     ]
    },
    {
     "data": {
      "text/plain": "<core.model.bt_analysis.ConsoleAnalyzedResult at 0x237daa1bee0>"
     },
     "execution_count": 10,
     "metadata": {},
     "output_type": "execute_result"
    }
   ],
   "source": [
    "import pandas as pd\n",
    "import backtrader as bt\n",
    "\n",
    "from datetime import datetime\n",
    "\n",
    "import akshare as ak\n",
    "% matplotlib inline\n",
    "\n",
    "class Boll_strategy(bt.Strategy):\n",
    "    #自定义参数，每次买入1800手\n",
    "    params = (('size', 1800),)\n",
    "\n",
    "    def __init__(self):\n",
    "        self.dataclose = self.datas[0].close\n",
    "        self.order = None\n",
    "        self.buyprice = None\n",
    "        self.buycomm = None\n",
    "        ##使用自带的indicators中自带的函数计算出支撑线和压力线，period设置周期，默认是20\n",
    "        self.lines.top = bt.indicators.BollingerBands(self.datas[0], period=20).top\n",
    "        self.lines.bot = bt.indicators.BollingerBands(self.datas[0], period=20).bot\n",
    "\n",
    "    def next(self):\n",
    "        if not self.position:\n",
    "            if self.dataclose <= self.lines.bot[0]:\n",
    "                #执行买入\n",
    "                self.order = self.buy(size=self.params.size)\n",
    "            else:\n",
    "                if self.dataclose >= self.lines.top[0]:\n",
    "                    #执行卖出\n",
    "                    self.order = self.close(size=self.params.size)\n",
    "\n",
    "\n",
    "# 利用 AKShare 获取股票的后复权数据，这里只获取前 6 列\n",
    "stock_hfq_df = ak.stock_zh_a_hist(symbol=\"600309\", adjust=\"hfq\").iloc[:, :6]\n",
    "# 处理字段命名，以符合 Backtrader 的要求\n",
    "stock_hfq_df.columns = [\n",
    "    'date',\n",
    "    'open',\n",
    "    'close',\n",
    "    'high',\n",
    "    'low',\n",
    "    'volume',\n",
    "]\n",
    "# 把 date 作为日期索引，以符合 Backtrader 的要求\n",
    "stock_hfq_df.index = pd.to_datetime(stock_hfq_df['date'])\n",
    "start_date = datetime(1991, 4, 3)  # 回测开始时间\n",
    "end_date = datetime(2022, 6, 16)  # 回测结束时间\n",
    "data = bt.feeds.PandasData(dataname=stock_hfq_df,\n",
    "                           fromdate=start_date,\n",
    "                           todate=end_date)  # 加载数据\n",
    "# 初始化cerebro回测系统设置\n",
    "cerebro = bt.Cerebro()\n",
    "#将数据传入回测系统\n",
    "cerebro.adddata(data)\n",
    "# 将交易策略加载到回测系统中\n",
    "cerebro.addstrategy(Boll_strategy)\n",
    "# 设置初始资本为10,000\n",
    "startcash = 1000000\n",
    "cerebro.broker.setcash(startcash)\n",
    "# 设置交易手续费为 0.25%\n",
    "cerebro.broker.setcommission(commission=0.001)\n",
    "#运行回测系统\n",
    "from core.backtrade.analysis.console import ConsoleAnalyzer\n",
    "from config.config import TradeConfig\n",
    "\n",
    "config = TradeConfig()\n",
    "ConsoleAnalyzer.execute(cerebro, config)\n",
    "\n",
    "\n"
   ],
   "metadata": {
    "collapsed": false,
    "pycharm": {
     "name": "#%%\n"
    }
   }
  },
  {
   "cell_type": "code",
   "execution_count": null,
   "outputs": [],
   "source": [],
   "metadata": {
    "collapsed": false,
    "pycharm": {
     "name": "#%%\n",
     "is_executing": true
    }
   }
  },
  {
   "cell_type": "code",
   "execution_count": 10,
   "outputs": [],
   "source": [],
   "metadata": {
    "collapsed": false,
    "pycharm": {
     "name": "#%%\n"
    }
   }
  }
 ],
 "metadata": {
  "kernelspec": {
   "display_name": "Python 3",
   "language": "python",
   "name": "python3"
  },
  "language_info": {
   "codemirror_mode": {
    "name": "ipython",
    "version": 2
   },
   "file_extension": ".py",
   "mimetype": "text/x-python",
   "name": "python",
   "nbconvert_exporter": "python",
   "pygments_lexer": "ipython2",
   "version": "2.7.6"
  }
 },
 "nbformat": 4,
 "nbformat_minor": 0
}